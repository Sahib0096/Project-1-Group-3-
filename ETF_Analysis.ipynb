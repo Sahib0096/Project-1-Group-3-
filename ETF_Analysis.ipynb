{
 "cells": [
  {
   "cell_type": "code",
   "execution_count": null,
   "id": "4c98ea84-6e21-4ddf-8738-57fed6f2153a",
   "metadata": {
    "tags": []
   },
   "outputs": [],
   "source": [
    "# Import package for Data Extraction, Loading & Transformation\n",
    "import pandas as pd\n",
    "import requests\n",
    "\n",
    "# Import dotenv package for setting environment variables \n",
    "from dotenv import load_dotenv\n",
    "\n",
    "# Import os package\n",
    "import os\n",
    "\n",
    "# Set environment variables from the .env in the local environment\n",
    "load_dotenv()\n",
    "\n",
    "# Retrieve API key and store as Python variable\n",
    "api_key = os.getenv('API_KEY')\n",
    "type(api_key)"
   ]
  },
  {
   "cell_type": "code",
   "execution_count": null,
   "id": "22b01497-4742-4953-b967-a9a0dd00b5c7",
   "metadata": {
    "tags": []
   },
   "outputs": [],
   "source": [
    "# ETFs and Ticker Data for Sectoral Performance Analysis\n",
    "\n",
    "ticker_name_dict = {'XIU':['iShares S&P/TSX 60 Index ETF','TSX_60'],\n",
    "                    'XST':['iShares S&P/TSX Capped Consumer Staples Index ETF','Consumer Staples'],\n",
    "                    'XHC':['iShares Global Healthcare Index ETF','Health'],\n",
    "                    'XRE':['iShares S&P/TSX Capped REIT Index ETF','Real Estate'],\n",
    "                    'XUT':['iShares S&P/TSX Capped Utilities Index ETF','Utilities'],\n",
    "                    'CEW':['iShares Equal Weight Banc & Lifeco ETF','Financial Services'],\n",
    "                    'TRVL':['Harvest Travel & Leisure Index ETF','Recreation & Leisure'],\n",
    "                    'GLD':['SPDR Gold Shares','Gold ETF']}\n",
    "\n",
    "ticker_df = pd.DataFrame.from_dict(ticker_name_dict,orient='index',\n",
    "                                   columns=['ETF','Sector'])\n",
    "\n",
    "ticker_df                                       "
   ]
  },
  {
   "cell_type": "code",
   "execution_count": null,
   "id": "4ff70b6d-8cf1-4b14-bbe7-cb45de9bac17",
   "metadata": {
    "tags": []
   },
   "outputs": [],
   "source": [
    "# Creating New Directory to Save Data\n",
    "\n",
    "os.makedirs('./Output', exist_ok = True)\n",
    "ticker_df.to_csv('./Output/ticker.csv')"
   ]
  },
  {
   "cell_type": "code",
   "execution_count": null,
   "id": "8dd0be47-b639-4919-b285-4c33e833acb8",
   "metadata": {
    "tags": []
   },
   "outputs": [],
   "source": [
    "# Using Function to extract data using APIs and save as csvfiles\n",
    "\n",
    "etf_list = ticker_df.index.to_list() # Creating a List of ETF Tickers\n",
    "\n",
    "def extract_api_data(data_list):\n",
    "    df_list = []\n",
    "    \n",
    "    for item in data_list:\n",
    "        url = f'https://www.alphavantage.co/query?function=TIME_SERIES_MONTHLY&symbol={item}.TRT&outputsize=full&apikey={api_key}&datatype=csv'\n",
    "        r = requests.get(url)\n",
    "        df = pd.read_csv(url)\n",
    "        df['timestamp'] = df['timestamp'].str[:4]\n",
    "        item_df = df.rename(columns={'close': f'{item}','timestamp':'Year'})\n",
    "        item_df = item_df.groupby('Year').mean()\n",
    "        df_list = df_list.append(item_df)\n",
    "    \n",
    "    raw_df = pd.concat(df_list)\n",
    "    return(raw_df)\n",
    "\n",
    "raw_etf_df = extract_api_data(etf_list)\n",
    "\n",
    "combined_etf_df = raw_etf_df.drop(columns=['open','high','low','volume'],axis=1)\n",
    "\n",
    "combined_etf_df.to_csv('./Output/etf_annual_data.csv')\n",
    "\n",
    "display(combined_etf_df.head())\n",
    "display(combined_etf_df.tail())\n"
   ]
  },
  {
   "cell_type": "code",
   "execution_count": null,
   "id": "2a347036-bcaf-4990-b89c-ac82c46f6042",
   "metadata": {},
   "outputs": [],
   "source": [
    "for item in etf_list:\n",
    "        url = f'https://www.alphavantage.co/query?function=TIME_SERIES_MONTHLY&symbol={item}.TRT&outputsize=full&apikey={api_key}&datatype=csv'\n",
    "        r = requests.get(url)\n",
    "        df = pd.read_csv(url)\n",
    "        display(df.head())\n"
   ]
  },
  {
   "cell_type": "code",
   "execution_count": null,
   "id": "4a079f44-be04-4e6d-94f2-df5c3020e7d9",
   "metadata": {},
   "outputs": [],
   "source": []
  }
 ],
 "metadata": {
  "kernelspec": {
   "display_name": "Python 3 (ipykernel)",
   "language": "python",
   "name": "python3"
  },
  "language_info": {
   "codemirror_mode": {
    "name": "ipython",
    "version": 3
   },
   "file_extension": ".py",
   "mimetype": "text/x-python",
   "name": "python",
   "nbconvert_exporter": "python",
   "pygments_lexer": "ipython3",
   "version": "3.11.5"
  }
 },
 "nbformat": 4,
 "nbformat_minor": 5
}
